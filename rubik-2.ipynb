{
 "cells": [
  {
   "cell_type": "code",
   "execution_count": 1,
   "metadata": {
    "scrolled": true
   },
   "outputs": [
    {
     "name": "stdout",
     "output_type": "stream",
     "text": [
      "taille des données:\n",
      "X: (1837079, 22)\n",
      "Y: (1837079, 2)\n",
      "test: (1837080, 22)\n"
     ]
    }
   ],
   "source": [
    "import pandas as pd\n",
    "import numpy as np\n",
    "import matplotlib.pyplot as plt\n",
    "\n",
    "\n",
    "d = pd.read_csv(\"train_input.csv\")\n",
    "df=d.drop(['pos7','pos14','pos22'],axis=1)\n",
    "X = df.to_numpy()\n",
    "\n",
    "df = pd.read_csv(\"train_output.csv\")\n",
    "\n",
    "y = df.to_numpy()\n",
    "print(\"taille des données:\")\n",
    "print(\"X:\", X.shape)\n",
    "print(\"Y:\", y.shape)\n",
    "\n",
    "d = pd.read_csv(\"test_input.csv\")\n",
    "df=d.drop(['pos7','pos14','pos22'],axis=1)\n",
    "Xtest = df.to_numpy()\n",
    "print(\"test:\", Xtest.shape)\n",
    "\n"
   ]
  },
  {
   "cell_type": "code",
   "execution_count": 2,
   "metadata": {
    "scrolled": false
   },
   "outputs": [
    {
     "name": "stdout",
     "output_type": "stream",
     "text": [
      "(5000, 21)\n",
      "X_part.shape: (5000, 21)\n",
      "y_part.shape: (5000, 1)\n",
      "Xtest_part.shape: (5000, 21)\n",
      "[6 5 2 1 2 2 6 4 4 1 4 6 6 1 3 1 5 3 5 3 2]\n",
      "[3 1 1 5 1 2 6 2 4 2 4 2 5 6 6 3 3 1 5 6 4]\n"
     ]
    }
   ],
   "source": [
    "X_part =X[0:5000, 1:25]\n",
    "print(X_part.shape)\n",
    "y_part =y[0:5000,1:2]\n",
    "Xtest_part=Xtest[0:5000, 1:25]\n",
    "print(\"X_part.shape:\",X_part.shape)\n",
    "print(\"y_part.shape:\",y_part.shape)\n",
    "print(\"Xtest_part.shape:\",Xtest_part.shape)\n",
    "print(X_part[1,:])\n",
    "print(Xtest_part[1,:])"
   ]
  },
  {
   "cell_type": "code",
   "execution_count": 3,
   "metadata": {},
   "outputs": [
    {
     "name": "stdout",
     "output_type": "stream",
     "text": [
      "(5000, 121)\n",
      "[0. 0. 0. 0. 0. 1. 0. 0. 0. 0. 1. 0. 0. 1. 0. 0. 0. 0. 1. 0. 0. 0. 0. 0.\n",
      " 0. 1. 0. 0. 0. 0. 0. 1. 0. 0. 0. 0. 1. 0. 0. 0. 1. 0. 0. 0. 0. 0. 1. 0.\n",
      " 0. 1. 0. 0. 0. 0. 0. 0. 0. 0. 1. 0. 0. 0. 0. 0. 0. 0. 1. 0. 0. 0. 0. 0.\n",
      " 1. 1. 0. 0. 0. 0. 0. 0. 0. 1. 0. 0. 0. 1. 0. 0. 0. 0. 0. 0. 0. 0. 0. 1.\n",
      " 0. 0. 0. 1. 0. 0. 0. 0. 0. 0. 0. 1. 0. 0. 0. 1. 0. 0. 0. 0. 1. 0. 0. 0.\n",
      " 0.]\n"
     ]
    }
   ],
   "source": [
    "##OneHotEncoder pour les 24 faces,traite les donées d'entrainement  X\n",
    "from sklearn.preprocessing import OneHotEncoder\n",
    "enc = OneHotEncoder(handle_unknown='ignore',sparse=True)\n",
    "enc.fit(X_part)\n",
    "X_part_OHE = enc.transform(X_part).toarray()\n",
    "print(X_part_OHE.shape)\n",
    "print(X_part_OHE[1,:])\n",
    "\n"
   ]
  },
  {
   "cell_type": "code",
   "execution_count": 4,
   "metadata": {},
   "outputs": [
    {
     "name": "stdout",
     "output_type": "stream",
     "text": [
      "(5000, 121)\n",
      "[0. 0. 1. 0. 0. 0. 1. 0. 0. 0. 0. 0. 1. 0. 0. 0. 0. 0. 0. 0. 0. 0. 1. 0.\n",
      " 1. 0. 0. 0. 0. 0. 0. 1. 0. 0. 0. 0. 1. 0. 1. 0. 0. 0. 0. 0. 0. 0. 1. 0.\n",
      " 0. 0. 1. 0. 0. 0. 0. 0. 0. 0. 1. 0. 0. 0. 1. 0. 0. 0. 0. 0. 0. 0. 0. 1.\n",
      " 0. 0. 0. 0. 0. 0. 1. 0. 0. 0. 0. 0. 1. 0. 0. 1. 0. 0. 0. 0. 0. 1. 0. 0.\n",
      " 0. 1. 0. 0. 0. 0. 0. 0. 0. 0. 0. 1. 0. 0. 0. 0. 0. 0. 1. 0. 0. 0. 1. 0.\n",
      " 0.]\n"
     ]
    }
   ],
   "source": [
    "##OneHotEncoder pour les 24 faces,traite les donées de test  Xtest\n",
    "from sklearn.preprocessing import OneHotEncoder\n",
    "enc = OneHotEncoder(handle_unknown='ignore')\n",
    "enc.fit(Xtest_part)\n",
    "Xtest_part_OHE = enc.transform(Xtest_part).toarray()\n",
    "print(Xtest_part_OHE.shape)\n",
    "print(Xtest_part_OHE[1,:])\n",
    "\n"
   ]
  },
  {
   "cell_type": "code",
   "execution_count": 8,
   "metadata": {},
   "outputs": [],
   "source": [
    "from sklearn.model_selection import train_test_split\n",
    "from sklearn.metrics import classification_report\n",
    "\n",
    "X_train, X_test, y_train, y_test = train_test_split(X_part, y_part, test_size=0.1,random_state=42)"
   ]
  },
  {
   "cell_type": "code",
   "execution_count": 6,
   "metadata": {},
   "outputs": [],
   "source": [
    "##KNN\n",
    "from sklearn.neighbors import KNeighborsClassifier\n",
    "from sklearn import metrics\n",
    "k_range=range(1,9)\n",
    "scores ={}\n",
    "scores_list =[]\n",
    "for k in k_range:\n",
    "    knn = KNeighborsClassifier(n_neighbors=k)\n",
    "    knn.fit(Xtest_part_OHE, y_part.ravel())\n",
    "    y_pred = knn.predict(Xtest_part_OHE)\n",
    "    scores[k]=metrics.accuracy_score(y_part,y_pred)\n",
    "    scores_list.append(metrics.accuracy_score(y_part,y_pred))"
   ]
  },
  {
   "cell_type": "code",
   "execution_count": 7,
   "metadata": {},
   "outputs": [
    {
     "data": {
      "text/plain": [
       "Text(0, 0.5, 'Testing Accuracy')"
      ]
     },
     "execution_count": 7,
     "metadata": {},
     "output_type": "execute_result"
    },
    {
     "data": {
      "image/png": "[encoded data removed]",
      "text/plain": [
       "<Figure size 432x288 with 1 Axes>"
      ]
     },
     "metadata": {
      "needs_background": "light"
     },
     "output_type": "display_data"
    }
   ],
   "source": [
    "import matplotlib.pyplot as plt\n",
    "plt.plot(k_range,scores_list)\n",
    "plt.xlabel(\"Value of k for KNN\")\n",
    "plt.ylabel(\"Testing Accuracy\")"
   ]
  },
  {
   "cell_type": "code",
   "execution_count": 85,
   "metadata": {
    "scrolled": true
   },
   "outputs": [
    {
     "data": {
      "text/plain": [
       "DecisionTreeClassifier(class_weight=None, criterion='entropy', max_depth=None,\n",
       "                       max_features=None, max_leaf_nodes=None,\n",
       "                       min_impurity_decrease=0.0, min_impurity_split=None,\n",
       "                       min_samples_leaf=1, min_samples_split=2,\n",
       "                       min_weight_fraction_leaf=0.0, presort=False,\n",
       "                       random_state=None, splitter='best')"
      ]
     },
     "execution_count": 85,
     "metadata": {},
     "output_type": "execute_result"
    }
   ],
   "source": [
    "##Arbre de Décision\n",
    "from sklearn.tree import DecisionTreeClassifier\n",
    "from sklearn import tree\n",
    "from sklearn.metrics import precision_score\n",
    "dtree = DecisionTreeClassifier(criterion=\"entropy\")\n",
    "dtree.fit(Xtest_part_OHE, y_part)"
   ]
  },
  {
   "cell_type": "code",
   "execution_count": null,
   "metadata": {},
   "outputs": [],
   "source": [
    "from sklearn.metrics import plot_confusion_matrix\n",
    "plot_confusion_matrix(dtree,Xtest_part, y_test)"
   ]
  }
 ],
 "metadata": {
  "kernelspec": {
   "display_name": "Python 3",
   "language": "python",
   "name": "python3"
  },
  "language_info": {
   "codemirror_mode": {
    "name": "ipython",
    "version": 3
   },
   "file_extension": ".py",
   "mimetype": "text/x-python",
   "name": "python",
   "nbconvert_exporter": "python",
   "pygments_lexer": "ipython3",
   "version": "3.7.4"
  }
 },
 "nbformat": 4,
 "nbformat_minor": 2
}
